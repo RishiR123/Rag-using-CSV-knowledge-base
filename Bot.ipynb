{
 "cells": [
  {
   "cell_type": "markdown",
   "metadata": {},
   "source": [
    "# Module"
   ]
  },
  {
   "cell_type": "code",
   "execution_count": 16,
   "metadata": {},
   "outputs": [],
   "source": [
    "from langchain_community.document_loaders.csv_loader import CSVLoader\n",
    "import google.generativeai as gemini\n",
    "from langchain_google_genai import GoogleGenerativeAIEmbeddings\n",
    "from langchain_community.vectorstores import Chroma\n",
    "from dotenv import load_dotenv\n",
    "import os"
   ]
  },
  {
   "cell_type": "markdown",
   "metadata": {},
   "source": [
    "# Settings our Model"
   ]
  },
  {
   "cell_type": "code",
   "execution_count": 3,
   "metadata": {},
   "outputs": [
    {
     "data": {
      "text/plain": [
       "'Hi Zakariya!  How can I help you today?\\n'"
      ]
     },
     "execution_count": 3,
     "metadata": {},
     "output_type": "execute_result"
    }
   ],
   "source": [
    "load_dotenv()\n",
    "api = os.getenv(\"google\")\n",
    "\n",
    "gemini.configure(api_key=api)\n",
    "\n",
    "model = gemini.GenerativeModel(\"gemini-1.5-flash\")\n",
    "\n",
    "response = model.generate_content(\"hi im zakariya\")\n",
    "\n",
    "\n",
    "response.text"
   ]
  },
  {
   "cell_type": "markdown",
   "metadata": {},
   "source": [
    "# Loading the Csv - Knowledge base"
   ]
  },
  {
   "cell_type": "code",
   "execution_count": 4,
   "metadata": {},
   "outputs": [],
   "source": [
    "loader = CSVLoader(file_path=\"zakariya_large_knowledge_chatbot.csv\",source_column= \"Input\")\n",
    "\n",
    "data = loader.load()"
   ]
  },
  {
   "cell_type": "markdown",
   "metadata": {},
   "source": [
    "# embeddings setup"
   ]
  },
  {
   "cell_type": "code",
   "execution_count": 5,
   "metadata": {},
   "outputs": [],
   "source": [
    "embeddings = GoogleGenerativeAIEmbeddings(model=\"models/embedding-001\", google_api_key=api,task_type=\"retrieval_query\")"
   ]
  },
  {
   "cell_type": "markdown",
   "metadata": {},
   "source": [
    "## Text chunks into embeddings"
   ]
  },
  {
   "cell_type": "code",
   "execution_count": 13,
   "metadata": {},
   "outputs": [],
   "source": [
    "text_data = [doc.page_content for doc in data]\n",
    "\n",
    "vectors = [embeddings.embed_query(text) for text in text_data]"
   ]
  },
  {
   "cell_type": "markdown",
   "metadata": {},
   "source": [
    "# Vector Database\n"
   ]
  },
  {
   "cell_type": "code",
   "execution_count": null,
   "metadata": {},
   "outputs": [],
   "source": [
    "vectordb = Chroma.from_texts(\n",
    "    texts=text_data,  \n",
    "    embedding=embeddings,\n",
    "    persist_directory=\"rova_db\"  \n",
    ")"
   ]
  },
  {
   "cell_type": "markdown",
   "metadata": {},
   "source": [
    "# Cosine Similarity search"
   ]
  },
  {
   "cell_type": "code",
   "execution_count": 26,
   "metadata": {},
   "outputs": [
    {
     "name": "stdout",
     "output_type": "stream",
     "text": [
      "[Document(metadata={}, page_content='Category: Robotics\\nTopic: Basics\\nSubtopic: Basics\\nInput: Tell me about basics in robotics\\nResponse: Robotics is so cool! Start with sensors—they’re like the robot’s senses. Want to learn how I teach them?\\nAdditional Notes: Straightforward and conversational tone for direct engagement.'), Document(metadata={}, page_content='Category: Robotics\\nTopic: Basics\\nSubtopic: Basics\\nInput: Tell me about basics in robotics\\nResponse: Robotics is so cool! Start with sensors—they’re like the robot’s senses. Want to learn how I teach them?\\nAdditional Notes: Straightforward and conversational tone for direct engagement.'), Document(metadata={}, page_content='Category: Robotics\\nTopic: Basics\\nSubtopic: Basics\\nInput: Tell me about basics in robotics\\nResponse: Robotics is so cool! Start with sensors—they’re like the robot’s senses. Want to learn how I teach them?\\nAdditional Notes: Straightforward and conversational tone for direct engagement.')]\n"
     ]
    }
   ],
   "source": [
    "query = input(\"enter the question\")\n",
    "search_results = vectordb.similarity_search(query, k=3)\n",
    "\n",
    "print(search_results)"
   ]
  },
  {
   "cell_type": "markdown",
   "metadata": {},
   "source": [
    "# Combine search results as context"
   ]
  },
  {
   "cell_type": "code",
   "execution_count": 27,
   "metadata": {},
   "outputs": [],
   "source": [
    "combined_context = \"\\n\\n\".join([res.page_content for res in search_results])"
   ]
  },
  {
   "cell_type": "markdown",
   "metadata": {},
   "source": [
    "#### make it a single prompt to avoid typeerror"
   ]
  },
  {
   "cell_type": "code",
   "execution_count": 33,
   "metadata": {},
   "outputs": [],
   "source": [
    "final_prompt = f\"User's Query: {query}\\n\\nContext:\\n{combined_context}\\n\\nProvide a concise, human-like response based on the context above.\""
   ]
  },
  {
   "cell_type": "markdown",
   "metadata": {},
   "source": [
    "# Directly pass the query and context to the model\n"
   ]
  },
  {
   "cell_type": "code",
   "execution_count": null,
   "metadata": {},
   "outputs": [],
   "source": [
    "response = model.generate_content(\n",
    "   final_prompt\n",
    ")\n",
    "\n"
   ]
  },
  {
   "cell_type": "markdown",
   "metadata": {},
   "source": [
    "# Extract generated text\n"
   ]
  },
  {
   "cell_type": "code",
   "execution_count": 35,
   "metadata": {},
   "outputs": [
    {
     "name": "stdout",
     "output_type": "stream",
     "text": [
      "Generated Text: Hey! Robotics is awesome!  Let's start with the basics:  sensors are like a robot's eyes and ears.  Want to know more about how they work?\n",
      "\n"
     ]
    }
   ],
   "source": [
    "generated_text = response.candidates[0].content.parts[0].text\n",
    "\n",
    "print(\"Generated Text:\", generated_text)"
   ]
  }
 ],
 "metadata": {
  "kernelspec": {
   "display_name": "Python 3",
   "language": "python",
   "name": "python3"
  },
  "language_info": {
   "codemirror_mode": {
    "name": "ipython",
    "version": 3
   },
   "file_extension": ".py",
   "mimetype": "text/x-python",
   "name": "python",
   "nbconvert_exporter": "python",
   "pygments_lexer": "ipython3",
   "version": "3.12.3"
  }
 },
 "nbformat": 4,
 "nbformat_minor": 2
}
